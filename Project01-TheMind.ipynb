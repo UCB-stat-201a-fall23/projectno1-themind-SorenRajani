{
 "cells": [
  {
   "cell_type": "markdown",
   "id": "4f2e3179-b4ae-4243-92eb-ed8d86df7c10",
   "metadata": {
    "user_expressions": []
   },
   "source": [
    "## Project No1 - The Mind\n",
    "\n",
    "Refer to the `README.md` for further information about how to play the game and the objectives for this first project. \n",
    "\n",
    "When writing code, we recommend you to be as modular as possible. For example, if you are running multiple experiments for different choices of parameters, it may be convenient to write a function that does one experiment and then make multiple calls to the same function. Follow the _do not repeat yourself_ rule when writing code! "
   ]
  },
  {
   "cell_type": "code",
   "execution_count": 2,
   "id": "130e891e-23be-4df7-8209-9c95c8ec6852",
   "metadata": {},
   "outputs": [],
   "source": [
    "import numpy as np\n",
    "import matplotlib.pyplot as plt"
   ]
  },
  {
   "cell_type": "markdown",
   "id": "d44bf2d2-6100-47ca-a6d3-55911388bc7e",
   "metadata": {
    "user_expressions": []
   },
   "source": [
    "Let's start by creating a function that generates one sample of the game. Feel free to change this code as you find it suitable, for example by changing how the sampling is created or if you want to sample cards with replacement (this could be useful for the last questions)."
   ]
  },
  {
   "cell_type": "code",
   "execution_count": 3,
   "id": "e4c2b253-1621-459a-ba5a-a76d6f46a64b",
   "metadata": {},
   "outputs": [],
   "source": [
    "def sample_cards(N, n, k):\n",
    "    \"\"\"\n",
    "    Generates a simulated sample of how the cards are shuffled among players. \n",
    "    \n",
    "    Arguments: \n",
    "        - N : Total number of cards\n",
    "        - n : Number of players\n",
    "        - k : Number of cards per player\n",
    "        \n",
    "    Returns: \n",
    "        - 2D numpy array where each row represent each player and each column their card in ascending order. \n",
    "    \"\"\"\n",
    "    \n",
    "    assert n * k <= N, \"There are not enough cards for all the players!\"\n",
    "    \n",
    "    _cards = np.random.choice(a=np.arange(1, N+1), size=n*k, replace=False)\n",
    "    _cards = _cards.reshape(n,k)\n",
    "    _cards.sort(axis=1)\n",
    "    return _cards"
   ]
  },
  {
   "cell_type": "markdown",
   "id": "efee53b7-0463-4c51-b106-e5d26fdc5a7e",
   "metadata": {
    "user_expressions": []
   },
   "source": [
    "Now we can just generate how cards are distributed among players by simply making a call to this function with the desired parameters. "
   ]
  },
  {
   "cell_type": "code",
   "execution_count": 5,
   "id": "1331d9b0-e485-4417-8c7d-4ce407c6e693",
   "metadata": {},
   "outputs": [
    {
     "data": {
      "text/plain": [
       "array([[36, 66, 69],\n",
       "       [40, 55, 85],\n",
       "       [29, 33, 90],\n",
       "       [12, 24, 31],\n",
       "       [14, 28, 52],\n",
       "       [43, 83, 93]])"
      ]
     },
     "execution_count": 5,
     "metadata": {},
     "output_type": "execute_result"
    }
   ],
   "source": [
    "cards = sample_cards(100, 6, 3)\n",
    "cards"
   ]
  },
  {
   "cell_type": "markdown",
   "id": "2f7cfb3b-b3bc-4064-92a4-35e96df2847d",
   "metadata": {
    "user_expressions": []
   },
   "source": [
    "and access the cards of each player with "
   ]
  },
  {
   "cell_type": "code",
   "execution_count": 6,
   "id": "36f4998e-61e0-4acd-b292-b447a0d6a8ed",
   "metadata": {},
   "outputs": [
    {
     "data": {
      "text/plain": [
       "(array([36, 66, 69]), array([40, 55, 85]))"
      ]
     },
     "execution_count": 6,
     "metadata": {},
     "output_type": "execute_result"
    }
   ],
   "source": [
    "player0 = cards[0,:]\n",
    "player1 = cards[1,:]\n",
    "player0, player1"
   ]
  },
  {
   "cell_type": "markdown",
   "id": "08d9de1a-3dc6-49ba-b08c-dba034839906",
   "metadata": {
    "user_expressions": []
   },
   "source": [
    "The lowest card in the game is"
   ]
  },
  {
   "cell_type": "code",
   "execution_count": 7,
   "id": "f2e54641-0ec3-4451-b8b3-371580ede9b7",
   "metadata": {},
   "outputs": [
    {
     "data": {
      "text/plain": [
       "12"
      ]
     },
     "execution_count": 7,
     "metadata": {},
     "output_type": "execute_result"
    }
   ],
   "source": [
    "np.min(cards)"
   ]
  },
  {
   "cell_type": "code",
   "execution_count": 8,
   "id": "2f4766c6-7334-4d24-a0b5-20e5bfd44a63",
   "metadata": {},
   "outputs": [
    {
     "data": {
      "text/plain": [
       "array([1, 2, 3, 4])"
      ]
     },
     "execution_count": 8,
     "metadata": {},
     "output_type": "execute_result"
    }
   ],
   "source": [
    "np.arange(1, 5)"
   ]
  },
  {
   "cell_type": "markdown",
   "id": "755260c8-4ec3-49ed-a783-99629dd51cb8",
   "metadata": {
    "user_expressions": []
   },
   "source": [
    "### 1. What is the distribution of the lowest number? \n",
    "\n",
    "Repeat the sampling of the cards multiple times for the same choice of `N`, `n` and `k` and plot the distribution of the lowest number in the sample. Use an [histogram](https://matplotlib.org/stable/api/_as_gen/matplotlib.pyplot.hist.html) to plot the distribution and set the bins to be the available integer number cards. "
   ]
  },
  {
   "cell_type": "code",
   "execution_count": 10,
   "id": "12fe9c17-000b-472a-8380-915f6dfda5df",
   "metadata": {},
   "outputs": [
    {
     "data": {
      "image/png": "[encoded data removed]",
      "text/plain": [
       "<Figure size 640x480 with 1 Axes>"
      ]
     },
     "metadata": {},
     "output_type": "display_data"
    }
   ],
   "source": [
    "N = 100; n = 6; k = 3\n",
    "minvals = list()\n",
    "for i in range(1,100000):\n",
    "    minval = np.min(sample_cards(N, n, k))\n",
    "    minvals.append(minval)\n",
    "    \n",
    "plt.hist(minvals,bins = 25)\n",
    "plt.title('Distribution of Lowest Number Dealt over 100,000 hands')\n",
    "plt.show()"
   ]
  },
  {
   "cell_type": "markdown",
   "id": "b9b63c3c-5cd0-4090-910b-06ded98c5497",
   "metadata": {
    "user_expressions": []
   },
   "source": [
    "### 2. What is the distribution of the largest gap?\n",
    "\n",
    "For each simulation, found the largest distance between consecutive numbers in the game. To make this easy, let us first consider the largest gap among the pool of **all** the cards among players (if the largest gap is happening in the hand of one single player, that is ok). This will make the analysis more simple. "
   ]
  },
  {
   "cell_type": "code",
   "execution_count": 83,
   "id": "96095727-fa79-4b25-a2d9-900302fd5f5b",
   "metadata": {},
   "outputs": [],
   "source": [
    "N = 100; n = 6; k = 3\n",
    "trials = 100000\n",
    "data = np.empty(trials,dtype = int)\n",
    "\n",
    "for i in range(0,trials):\n",
    "    cards = sample_cards(N, n, k)\n",
    "    flat_cards = cards.flatten()\n",
    "    order_ids = np.argsort(flat_cards)\n",
    "    gap_cards = np.diff(flat_cards[order_ids])\n",
    "    data[i] = np.max(gap_cards)\n",
    "    "
   ]
  },
  {
   "cell_type": "code",
   "execution_count": 84,
   "id": "f0166c7a",
   "metadata": {},
   "outputs": [
    {
     "data": {
      "image/png": "[encoded data removed]",
      "text/plain": [
       "<Figure size 640x480 with 1 Axes>"
      ]
     },
     "metadata": {},
     "output_type": "display_data"
    }
   ],
   "source": [
    "plt.hist(data,bins = 25)\n",
    "plt.title('Maximum Gap Between All Cards')\n",
    "plt.show()"
   ]
  },
  {
   "cell_type": "markdown",
   "id": "6c0d3228-b157-4b86-a28a-1e5dc629a17c",
   "metadata": {
    "user_expressions": []
   },
   "source": [
    "Repeat the experiment but know compute the largest gap between cards of different players. This is the gap that actually matters for the purposes of the game: what is the maximum number of numbers that a player will have to wait before playing the next card?"
   ]
  },
  {
   "cell_type": "code",
   "execution_count": 75,
   "id": "e8784277",
   "metadata": {},
   "outputs": [],
   "source": [
    "def between_player_max_gap(cards):\n",
    "    player_ids = np.tile(np.arange(1,n+1),(k,1)).T\n",
    "    flat_cards, flat_ids = cards.flatten(),player_ids.flatten()\n",
    "    order_ids = np.argsort(flat_cards)\n",
    "    gap_cards = np.diff(flat_cards[order_ids])\n",
    "    gap_ids = np.diff(flat_ids[order_ids])\n",
    "    gap_unique = gap_cards * (gap_ids != 0)\n",
    "    return np.max(gap_unique)"
   ]
  },
  {
   "cell_type": "code",
   "execution_count": 81,
   "id": "ddf75d64-b954-4155-b957-9a6e49fb5723",
   "metadata": {},
   "outputs": [],
   "source": [
    "N = 100; n = 6; k = 3\n",
    "trials = 100000\n",
    "data_players = np.empty(trials,dtype = int)\n",
    "\n",
    "for i in range(0,trials):\n",
    "    deal = sample_cards(N, n, k)\n",
    "    data_players[i] = between_player_max_gap(deal)\n"
   ]
  },
  {
   "cell_type": "code",
   "execution_count": 82,
   "id": "595223cb",
   "metadata": {},
   "outputs": [
    {
     "data": {
      "image/png": "[encoded data removed]",
      "text/plain": [
       "<Figure size 640x480 with 1 Axes>"
      ]
     },
     "metadata": {},
     "output_type": "display_data"
    }
   ],
   "source": [
    "plt.hist(data_players,bins = 25)\n",
    "plt.title('Maximum Gap Between Players')\n",
    "plt.show()"
   ]
  },
  {
   "cell_type": "markdown",
   "id": "6d0eb7ce",
   "metadata": {},
   "source": [
    "How does these compare? Run simulations for different choices of the number of cards and players and see when the difference between these two is larger.\n",
    "\n",
    "Compute the mean of the two distributions. When this difference is larger? How does this depends of the total number of players $n$?"
   ]
  },
  {
   "cell_type": "code",
   "execution_count": 85,
   "id": "9676e874",
   "metadata": {},
   "outputs": [
    {
     "name": "stdout",
     "output_type": "stream",
     "text": [
      "The mean max gap between all cards is 17.01572\n",
      "The mean max gap between all cards is 16.40326\n"
     ]
    }
   ],
   "source": [
    "print(f'The mean max gap between all cards is {np.mean(data)}')\n",
    "print(f'The mean max gap between all cards is {np.mean(data_players)}')"
   ]
  },
  {
   "cell_type": "markdown",
   "id": "c54d387a",
   "metadata": {},
   "source": [
    "In the example of n = 6 and k = 3 we see that the max gap is bigger for the all card distribtion, the distribution gets closer together the more players n rises and as k decreases since the greater number of hands and lower number of cards in hand makes is more similar to the all cards case. For example, consider that 100 players with 1 card is the same in both distributions."
   ]
  },
  {
   "cell_type": "markdown",
   "id": "c14b7f5b-23b7-4a73-b67b-8d4433fae9e2",
   "metadata": {
    "user_expressions": []
   },
   "source": [
    "### 3. Deriving distributions\n",
    "\n",
    "For this section, we are going to use the random sampling generating process from _The Mind_ to investigate and find some familiar distributions."
   ]
  },
  {
   "cell_type": "markdown",
   "id": "366396c5-7a5f-461c-a86e-0a5b528e3791",
   "metadata": {
    "user_expressions": []
   },
   "source": [
    "### 3.1. Binomial Distribution \n",
    "\n",
    "Can you think about any way of deriving the binomial distribution? Based on the output of one single game (function `sample_game()`), try to derive something that has Binomial distribution for certain parameter $p$. Run multiple simulations to see this and compare the obtained empirical distribution with the distribution of the binomial distribution (check `numpy.random.binomial` and `scipy.stats.binom`). "
   ]
  },
  {
   "cell_type": "code",
   "execution_count": null,
   "id": "a19d60be-1254-4b20-a2a6-bfbca103f41c",
   "metadata": {},
   "outputs": [],
   "source": []
  },
  {
   "cell_type": "markdown",
   "id": "4fd361e5-2c9c-4c78-9987-d73833be1f19",
   "metadata": {
    "user_expressions": []
   },
   "source": [
    "### 3.2. Beta Distribution\n",
    "\n",
    "The [order statistics](https://en.wikipedia.org/wiki/Order_statistic) of the uniform distribution are such that follow a Beta distribution. If well here we are not exactly sampling real numbers in $[0,1]$ following the uniform distribution, you can imagine that sampling one single number without repetition from $\\{ 1, 2, 3, \\ldots, N \\}$ is not very different...\n",
    "\n",
    "Compare the distribution of the lowest number in the sample (Part 1) with a [Beta distribution](https://en.wikipedia.org/wiki/Beta_distribution) with adequate choices of parameters. In order to do this, notice that the $k$th order statistics of a sample of $n$ uniformly distributed points in $[0,1]$ is $\\text{Beta}(k, n+1-k)$ (These $n$ and $k$ are not the same as before, you need to pick the right values of these)."
   ]
  },
  {
   "cell_type": "code",
   "execution_count": 15,
   "id": "a323b0ca-7bf6-48c1-a9f1-b87bc08d080c",
   "metadata": {},
   "outputs": [],
   "source": [
    "# To Do cell"
   ]
  },
  {
   "cell_type": "markdown",
   "id": "5bc7456e-e4f1-48af-92ef-cbe4177f9871",
   "metadata": {
    "user_expressions": []
   },
   "source": [
    "### 3.3. Exponential Distribution\n",
    "\n",
    "If we call $U_1$ the minimum number in the sample (Part 1), then make an histogram with the distribution of the transformed random variable given by \n",
    "$$\n",
    "X = - \\ln \\left( 1 - \\frac{U_1}{N} \\right)\n",
    "$$\n",
    "and compare this with the distribution of an exponential random variable with parameter $nk$, the total number of cards in the game. "
   ]
  },
  {
   "cell_type": "markdown",
   "id": "0ad19b6e-5603-4b66-b379-6b79f5aaedf6",
   "metadata": {
    "user_expressions": []
   },
   "source": [
    "### 4. What happens when $n * k << N$?\n",
    "\n",
    "Some of the distribution we saw in previous sections are just approximate. Study what happens when we increase the number of cards. Try to understand how the cases of sampling with and without reposition compare as $n * k << N$. What do you expect to see in these cases? When the difference between the two sampling strategies will lead to similar or different results. "
   ]
  },
  {
   "cell_type": "code",
   "execution_count": 16,
   "id": "bad3cabc-f8bc-482e-ac6c-1d684dce5eed",
   "metadata": {},
   "outputs": [],
   "source": [
    "# To Do cell"
   ]
  },
  {
   "cell_type": "markdown",
   "id": "d944ef54-38c2-46dc-a74f-2383625f9021",
   "metadata": {
    "user_expressions": []
   },
   "source": [
    "### Contribution statement\n",
    "\n",
    "Please include a list of the students you work with along this project (including yourself). Include both names and GitHub usernames of the people you collaborated with. Maximum of three persons per group. \n",
    "- Member No1: Isaac Liu\n",
    "- Member No2: \n",
    "- Member No3:"
   ]
  }
 ],
 "metadata": {
  "kernelspec": {
   "display_name": "Python 3 (ipykernel)",
   "language": "python",
   "name": "python3"
  },
  "language_info": {
   "codemirror_mode": {
    "name": "ipython",
    "version": 3
   },
   "file_extension": ".py",
   "mimetype": "text/x-python",
   "name": "python",
   "nbconvert_exporter": "python",
   "pygments_lexer": "ipython3",
   "version": "3.10.6"
  }
 },
 "nbformat": 4,
 "nbformat_minor": 5
}
